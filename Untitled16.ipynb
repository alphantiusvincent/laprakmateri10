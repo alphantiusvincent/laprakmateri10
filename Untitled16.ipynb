{
  "nbformat": 4,
  "nbformat_minor": 0,
  "metadata": {
    "colab": {
      "provenance": []
    },
    "kernelspec": {
      "name": "python3",
      "display_name": "Python 3"
    },
    "language_info": {
      "name": "python"
    }
  },
  "cells": [
    {
      "cell_type": "code",
      "execution_count": null,
      "metadata": {
        "id": "glP2Pm04YGAF"
      },
      "outputs": [],
      "source": [
        "eng2sp = dict()\n",
        "print(eng2sp)\n",
        "\n",
        "eng2sp['one'] = 'uno'\n",
        "print(eng2sp)"
      ]
    },
    {
      "cell_type": "code",
      "source": [
        "eng2sp = {'one': 'uno', 'two': 'dos', 'three': 'tres'}\n",
        "print(eng2sp)\n"
      ],
      "metadata": {
        "id": "D2A7pVQYYGnj"
      },
      "execution_count": null,
      "outputs": []
    },
    {
      "cell_type": "code",
      "source": [
        "eng2sp = dict()\n",
        "eng2sp = {'one': 'uno', 'two': 'dos', 'three': 'tres'}\n",
        "print(eng2sp['two'])\n"
      ],
      "metadata": {
        "id": "quUx4b21YGsC"
      },
      "execution_count": null,
      "outputs": []
    },
    {
      "cell_type": "code",
      "source": [
        "eng2sp = dict()\n",
        "eng2sp = {'one': 'uno', 'two': 'dos', 'three': 'tres'}\n",
        "len(eng2sp)\n",
        "print(len(eng2sp))"
      ],
      "metadata": {
        "id": "O2j108BGYG4j"
      },
      "execution_count": null,
      "outputs": []
    },
    {
      "cell_type": "code",
      "source": [
        "eng2sp = dict()\n",
        "eng2sp = {'one': 'uno', 'two': 'dos', 'three': 'tres'}\n",
        "print('one' in eng2sp)\n"
      ],
      "metadata": {
        "id": "eRkw6w5RhQAG"
      },
      "execution_count": null,
      "outputs": []
    },
    {
      "cell_type": "code",
      "source": [
        "eng2sp = dict()\n",
        "eng2sp = {'one': 'uno', 'two': 'dos', 'three': 'tres'}\n",
        "print('matahari' in eng2sp)"
      ],
      "metadata": {
        "id": "75ZrnkNPhQEp"
      },
      "execution_count": null,
      "outputs": []
    },
    {
      "cell_type": "code",
      "source": [
        "eng2sp = dict()\n",
        "eng2sp = {'one': 'uno', 'two': 'dos', 'three': 'tres'}\n",
        "vals = list(eng2sp.values())\n",
        "print('uno' in vals)\n"
      ],
      "metadata": {
        "id": "J3Adlg0khQJS"
      },
      "execution_count": null,
      "outputs": []
    },
    {
      "cell_type": "code",
      "source": [
        "word = 'MATAHARI TERBIT'\n",
        "d = dict()\n",
        "for c in word:\n",
        "    if c not in d:\n",
        "        d[c] = 1\n",
        "    else:\n",
        "        d[c] = d[c] + 1\n",
        "print(d)\n"
      ],
      "metadata": {
        "id": "jq6pm8xihQOT"
      },
      "execution_count": null,
      "outputs": []
    },
    {
      "cell_type": "code",
      "source": [
        "counts = { 'chuck' : 1 , 'annie' : 42, 'jan': 100}\n",
        "print(counts.get('jan', 0))\n",
        "\n",
        "print(counts.get('tim', 0))\n"
      ],
      "metadata": {
        "id": "fM_xqQDBzZPj"
      },
      "execution_count": null,
      "outputs": []
    },
    {
      "cell_type": "code",
      "source": [
        "word = 'MATAHARI TERBENAM'\n",
        "d = dict()\n",
        "for c in word:\n",
        "    d[c] = d.get(c,0) + 1\n",
        "print(d)\n"
      ],
      "metadata": {
        "id": "Dm_Ii7G6zZTN"
      },
      "execution_count": null,
      "outputs": []
    },
    {
      "cell_type": "code",
      "source": [
        "counts = { 'chuck' : 1 , 'annie' : 42, 'jan': 100}\n",
        "for key in counts:\n",
        "    print(key, counts[key])"
      ],
      "metadata": {
        "id": "7WUe_E4KzZW6"
      },
      "execution_count": null,
      "outputs": []
    },
    {
      "cell_type": "code",
      "source": [
        "fname = input('Enter the file name: ')\n",
        "try:\n",
        "    fhand = open(fname)\n",
        "except:\n",
        "    print('File cannot be opened:', fname)\n",
        "    exit()\n",
        "\n",
        "counts = dict()\n",
        "for line in fhand:\n",
        "    words = line.split()\n",
        "    for word in words:\n",
        "        if word not in counts:\n",
        "            counts[word] = 1\n",
        "        else:\n",
        "            counts[word] += 1\n",
        "\n",
        "print(counts)"
      ],
      "metadata": {
        "id": "-HN8XraQBfGk"
      },
      "execution_count": null,
      "outputs": []
    },
    {
      "cell_type": "code",
      "source": [
        "fname = input('Enter the file name: ')\n",
        "try:\n",
        "    fhand = open(fname)\n",
        "except:\n",
        "    print('File cannot be opened:', fname)\n",
        "    exit()\n",
        "\n",
        "counts = dict()\n",
        "for line in fhand:\n",
        "    line = line.rstrip()\n",
        "    line = line.translate(line.maketrans('', '', string.punctuation))\n",
        "    line = line.lower()\n",
        "    words = line.split()\n",
        "    for word in words:\n",
        "        if word not in counts:\n",
        "            counts[word] = 1\n",
        "        else:\n",
        "            counts[word] += 1\n",
        "\n",
        "print(counts)\n"
      ],
      "metadata": {
        "id": "UU0c8XSMBfLd"
      },
      "execution_count": null,
      "outputs": []
    },
    {
      "cell_type": "code",
      "source": [],
      "metadata": {
        "id": "iZvIsnmFBfOf"
      },
      "execution_count": null,
      "outputs": []
    },
    {
      "cell_type": "code",
      "source": [],
      "metadata": {
        "id": "b_HECPd4BfRv"
      },
      "execution_count": null,
      "outputs": []
    },
    {
      "cell_type": "code",
      "source": [],
      "metadata": {
        "id": "KSttJkzHhQTA"
      },
      "execution_count": null,
      "outputs": []
    }
  ]
}